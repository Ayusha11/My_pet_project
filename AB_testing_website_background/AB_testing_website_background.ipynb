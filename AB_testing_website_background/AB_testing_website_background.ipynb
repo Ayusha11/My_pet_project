{
 "cells": [
  {
   "cell_type": "markdown",
   "id": "e219f5a1-361f-491c-b40b-8fb2374eae48",
   "metadata": {},
   "source": [
    "__Цель:__ Повысить вовлеченность пользователей и, как следствие, увеличить конверсию на сайте."
   ]
  },
  {
   "cell_type": "markdown",
   "id": "2a98dc59-5172-4003-9795-5df69309b0fc",
   "metadata": {},
   "source": [
    "__Гипотеза:__ Внедрение нового дизайна сайта (черный фон) приведет к статистически значимому увеличению коэффициента конверсии по сравнению с текущим дизайном (белый фон). Предпологается, что новый черный дизайн сайта улучшит читаемость контента и создаст более премиальный вид.\n"
   ]
  },
  {
   "cell_type": "markdown",
   "id": "72c9c5c8-2ec6-472f-91d6-8bd16f03a182",
   "metadata": {},
   "source": [
    "__Задача__: Для проверки гипотезы проведем A/B-тестирование и сравним следующие ключевые метрики между группой A (контрольная группа, старый дизайн) и группой B (тестовая группа, новый дизайн):\n",
    "- Коэффициент конверсии.\n",
    "- Среднее время, проведенное пользователями на сайте.\n",
    "- Среднее количество просмотренных страниц."
   ]
  },
  {
   "cell_type": "code",
   "execution_count": 4,
   "id": "8a860052-d6c0-4ca2-a298-e631e162dde9",
   "metadata": {},
   "outputs": [],
   "source": [
    "import pandas as pd\n",
    "import numpy as np\n",
    "import matplotlib.pyplot as plt\n",
    "import seaborn as sns\n",
    "import math\n",
    "import scipy.stats as stats\n",
    "from scipy.stats import mannwhitneyu\n",
    "from scipy.stats import chi2_contingency"
   ]
  },
  {
   "cell_type": "markdown",
   "id": "c89d39f1-ade2-48f4-ba9d-69253a90d0de",
   "metadata": {},
   "source": [
    "сохраним данные в переменную df"
   ]
  },
  {
   "cell_type": "code",
   "execution_count": 6,
   "id": "d9453ffc-d159-4635-893d-11dd4e580788",
   "metadata": {},
   "outputs": [],
   "source": [
    "df = pd.read_csv('C:\\\\Users\\\\a17c2\\\\Downloads\\\\data_set\\\\ab_testing.csv')"
   ]
  },
  {
   "cell_type": "code",
   "execution_count": 7,
   "id": "ea3b4dfa-a0d0-4bcf-bffa-8136a98ec0f6",
   "metadata": {},
   "outputs": [
    {
     "data": {
      "text/html": [
       "<div>\n",
       "<style scoped>\n",
       "    .dataframe tbody tr th:only-of-type {\n",
       "        vertical-align: middle;\n",
       "    }\n",
       "\n",
       "    .dataframe tbody tr th {\n",
       "        vertical-align: top;\n",
       "    }\n",
       "\n",
       "    .dataframe thead th {\n",
       "        text-align: right;\n",
       "    }\n",
       "</style>\n",
       "<table border=\"1\" class=\"dataframe\">\n",
       "  <thead>\n",
       "    <tr style=\"text-align: right;\">\n",
       "      <th></th>\n",
       "      <th>User ID</th>\n",
       "      <th>Group</th>\n",
       "      <th>Page Views</th>\n",
       "      <th>Time Spent</th>\n",
       "      <th>Conversion</th>\n",
       "      <th>Device</th>\n",
       "      <th>Location</th>\n",
       "    </tr>\n",
       "  </thead>\n",
       "  <tbody>\n",
       "    <tr>\n",
       "      <th>0</th>\n",
       "      <td>14292</td>\n",
       "      <td>B</td>\n",
       "      <td>3</td>\n",
       "      <td>424</td>\n",
       "      <td>No</td>\n",
       "      <td>Mobile</td>\n",
       "      <td>Northern Ireland</td>\n",
       "    </tr>\n",
       "    <tr>\n",
       "      <th>1</th>\n",
       "      <td>11682</td>\n",
       "      <td>A</td>\n",
       "      <td>9</td>\n",
       "      <td>342</td>\n",
       "      <td>No</td>\n",
       "      <td>Mobile</td>\n",
       "      <td>Scotland</td>\n",
       "    </tr>\n",
       "    <tr>\n",
       "      <th>2</th>\n",
       "      <td>19825</td>\n",
       "      <td>A</td>\n",
       "      <td>2</td>\n",
       "      <td>396</td>\n",
       "      <td>No</td>\n",
       "      <td>Desktop</td>\n",
       "      <td>Northern Ireland</td>\n",
       "    </tr>\n",
       "    <tr>\n",
       "      <th>3</th>\n",
       "      <td>16080</td>\n",
       "      <td>B</td>\n",
       "      <td>4</td>\n",
       "      <td>318</td>\n",
       "      <td>No</td>\n",
       "      <td>Desktop</td>\n",
       "      <td>Wales</td>\n",
       "    </tr>\n",
       "    <tr>\n",
       "      <th>4</th>\n",
       "      <td>18851</td>\n",
       "      <td>A</td>\n",
       "      <td>1</td>\n",
       "      <td>338</td>\n",
       "      <td>Yes</td>\n",
       "      <td>Desktop</td>\n",
       "      <td>Scotland</td>\n",
       "    </tr>\n",
       "  </tbody>\n",
       "</table>\n",
       "</div>"
      ],
      "text/plain": [
       "   User ID Group  Page Views  Time Spent Conversion   Device          Location\n",
       "0    14292     B           3         424         No   Mobile  Northern Ireland\n",
       "1    11682     A           9         342         No   Mobile          Scotland\n",
       "2    19825     A           2         396         No  Desktop  Northern Ireland\n",
       "3    16080     B           4         318         No  Desktop             Wales\n",
       "4    18851     A           1         338        Yes  Desktop          Scotland"
      ]
     },
     "execution_count": 7,
     "metadata": {},
     "output_type": "execute_result"
    }
   ],
   "source": [
    "df.head()"
   ]
  },
  {
   "cell_type": "code",
   "execution_count": 8,
   "id": "2fca83cd-1a48-43c7-b7d0-620cbdad1c9a",
   "metadata": {},
   "outputs": [
    {
     "name": "stdout",
     "output_type": "stream",
     "text": [
      "<class 'pandas.core.frame.DataFrame'>\n",
      "RangeIndex: 5000 entries, 0 to 4999\n",
      "Data columns (total 7 columns):\n",
      " #   Column      Non-Null Count  Dtype \n",
      "---  ------      --------------  ----- \n",
      " 0   User ID     5000 non-null   int64 \n",
      " 1   Group       5000 non-null   object\n",
      " 2   Page Views  5000 non-null   int64 \n",
      " 3   Time Spent  5000 non-null   int64 \n",
      " 4   Conversion  5000 non-null   object\n",
      " 5   Device      5000 non-null   object\n",
      " 6   Location    5000 non-null   object\n",
      "dtypes: int64(3), object(4)\n",
      "memory usage: 273.6+ KB\n"
     ]
    }
   ],
   "source": [
    "df.info()"
   ]
  },
  {
   "cell_type": "markdown",
   "id": "2a1ea371-6a1e-4b6a-80a0-a8e97028bf62",
   "metadata": {},
   "source": [
    "В дата фрейме нету пропущенных значений "
   ]
  },
  {
   "cell_type": "markdown",
   "id": "4158a437-a1df-47cb-8f31-3ca0ffd35243",
   "metadata": {},
   "source": [
    "__Time spent__ (время проведенное на сайте)"
   ]
  },
  {
   "cell_type": "code",
   "execution_count": 11,
   "id": "1a45a008-9d4b-4b37-86b1-ed71caab4ef4",
   "metadata": {},
   "outputs": [
    {
     "data": {
      "image/png": "[encoded data removed]",
      "text/plain": [
       "<Figure size 1200x400 with 2 Axes>"
      ]
     },
     "metadata": {},
     "output_type": "display_data"
    }
   ],
   "source": [
    "time_spent_A = df[df['Group']=='A']['Time Spent']\n",
    "time_spent_B = df[df['Group']=='B']['Time Spent']\n",
    "\n",
    "fig, (ax1, ax2) = plt.subplots(ncols=2, figsize=(12, 4))\n",
    "\n",
    "sns.histplot(time_spent_A, color='red', ax=ax1)\n",
    "ax1.set_title('Group A')\n",
    "ax1.set_xlabel('Time Spent')\n",
    "\n",
    "sns.histplot(time_spent_B, color='green', ax=ax2)\n",
    "ax2.set_title('Group B')\n",
    "ax2.set_xlabel('Time Spent')\n",
    "\n",
    "plt.show()"
   ]
  },
  {
   "cell_type": "code",
   "execution_count": 78,
   "id": "bebbdc29-d9c1-47e0-b361-00a774dc1821",
   "metadata": {},
   "outputs": [
    {
     "data": {
      "image/png": "[encoded data removed]",
      "text/plain": [
       "<Figure size 640x480 with 1 Axes>"
      ]
     },
     "metadata": {},
     "output_type": "display_data"
    }
   ],
   "source": [
    "sns.boxplot(data = df, x = 'Group', y ='Time Spent')\n",
    "plt.title('box plot of Time Spent')\n",
    "plt.show()"
   ]
  },
  {
   "cell_type": "code",
   "execution_count": 95,
   "id": "1d5c9931-74d8-43b2-8d8d-fcb9e9c76f5b",
   "metadata": {},
   "outputs": [
    {
     "name": "stdout",
     "output_type": "stream",
     "text": [
      "mean time spent group A = 241.73322747121873\n",
      "mean time spent group B = 243.30390971382508\n",
      "median time spent group A = 244.0\n",
      "median time spent group B = 244.0\n"
     ]
    }
   ],
   "source": [
    "print(\"mean time spent group A =\",time_spent_A.mean())\n",
    "print(\"mean time spent group B =\", time_spent_B.mean())\n",
    "print(\"median time spent group A =\", time_spent_B.median())\n",
    "print(\"median time spent group B =\", time_spent_B.median())"
   ]
  },
  {
   "cell_type": "markdown",
   "id": "af85dc23-6dbd-430e-abc0-750aeb1a5629",
   "metadata": {},
   "source": [
    "* Видим, что среднее время проведенное пользователем на сайте в группе B не сильно превышает среднее группы А, а медиана равна. Скорее всего черный цвет фона по сравнению с белым не увеличивает существенно время, проведенное на сайте.\n",
    "* Визуально кажется, что распределенния обоих групп не нормальное. Проверим нормальность с помощью теста Шапиро-Уилка, где нулевая гипотеза предпологает что данные распределенны нормальным образом. Интерпритация вывода: __p-value__ > alpha - у нас нет оснований отвергнуть нулевую гипотезу,  __p-value__ < alpha - принимает альтернативную гипотезу, что распределение не подчинено нормальному закону."
   ]
  },
  {
   "cell_type": "code",
   "execution_count": 14,
   "id": "5bf14d45-4821-4477-9e20-ce61e4e413cd",
   "metadata": {},
   "outputs": [
    {
     "name": "stdout",
     "output_type": "stream",
     "text": [
      "Shapiro-Wilk for A group: statistic = 0.9548671064698608 p value= 3.083246433138438e-27\n",
      "Shapiro-Wilk for B group: statistic = 0.9514252794431708 p value= 6.1796874034872095e-28\n"
     ]
    }
   ],
   "source": [
    "statistic, p_value = stats.shapiro(time_spent_A)\n",
    "print(\"Shapiro-Wilk for A group: statistic =\",statistic, \"p value=\", p_value)\n",
    "\n",
    "statistic, p_value = stats.shapiro(time_spent_B)\n",
    "print(\"Shapiro-Wilk for B group: statistic =\",statistic, \"p value=\", p_value)"
   ]
  },
  {
   "cell_type": "markdown",
   "id": "58249598-cc5e-4e30-b768-76010f5bd080",
   "metadata": {},
   "source": [
    "В каждой из групп __p-value__ < alpha - принимаем альтернативную гипотезу. "
   ]
  },
  {
   "cell_type": "markdown",
   "id": "a65838a2-b8a5-47ca-8864-3fc2c30d059a",
   "metadata": {},
   "source": [
    "Используем не параметрический тест Манна-Уитни для того, чтобы обнаружить статистически занчимый эффект "
   ]
  },
  {
   "cell_type": "code",
   "execution_count": 17,
   "id": "71147e7b-673f-4bdc-9fec-ff40698187fc",
   "metadata": {},
   "outputs": [
    {
     "name": "stdout",
     "output_type": "stream",
     "text": [
      "Mann-Whitney U test: statistic = 3101095.0 p-value = 0.6420301034033706\n"
     ]
    }
   ],
   "source": [
    "statistic, p_value = mannwhitneyu(time_spent_A, time_spent_B)\n",
    "print(\"Mann-Whitney U test: statistic =\", statistic, \"p-value =\", p_value)"
   ]
  },
  {
   "cell_type": "markdown",
   "id": "de7cf920-1d09-4131-9557-16821041a6f9",
   "metadata": {},
   "source": [
    "__p-value__ оказался намного больше критерия 0.05 (5%), это значит, что мы не обнаружили статистически значимые различия в Time spent "
   ]
  },
  {
   "cell_type": "markdown",
   "id": "3554df56-0136-4a6a-8065-ff4a322e27ce",
   "metadata": {},
   "source": [
    "__Page views__ (количество просмотренных страниц)"
   ]
  },
  {
   "cell_type": "code",
   "execution_count": 20,
   "id": "d939c128-59c3-47fa-95e4-414ed9ae6ad1",
   "metadata": {},
   "outputs": [
    {
     "data": {
      "image/png": "[encoded data removed]",
      "text/plain": [
       "<Figure size 1200x400 with 2 Axes>"
      ]
     },
     "metadata": {},
     "output_type": "display_data"
    }
   ],
   "source": [
    "page_views_A = df[df['Group']=='A']['Page Views']\n",
    "page_views_B = df[df['Group']=='B']['Page Views']\n",
    "\n",
    "fig, (ax1, ax2) = plt.subplots(ncols=2, figsize=(12, 4))\n",
    "\n",
    "sns.histplot(page_views_A, color='red', ax=ax1)\n",
    "ax1.set_title('Group A')\n",
    "ax1.set_xlabel('Page Views')\n",
    "\n",
    "sns.histplot(page_views_B, color='green', ax=ax2)\n",
    "ax2.set_title('Group B')\n",
    "ax2.set_xlabel('Page Views')\n",
    "\n",
    "plt.show()"
   ]
  },
  {
   "cell_type": "code",
   "execution_count": 80,
   "id": "d2b24a34-48bb-4ed2-bd7f-920e94593740",
   "metadata": {},
   "outputs": [
    {
     "data": {
      "image/png": "[encoded data removed]",
      "text/plain": [
       "<Figure size 640x480 with 1 Axes>"
      ]
     },
     "metadata": {},
     "output_type": "display_data"
    }
   ],
   "source": [
    "sns.boxplot(data = df, x = 'Group', y = 'Page Views');\n",
    "plt.title('box plot of Page Views')\n",
    "plt.show()"
   ]
  },
  {
   "cell_type": "code",
   "execution_count": 90,
   "id": "e4131207-2296-4223-be3f-29b80470ef09",
   "metadata": {},
   "outputs": [
    {
     "name": "stdout",
     "output_type": "stream",
     "text": [
      "mean page views group A = 7.581579992060341\n",
      "mean page views group B = 7.492946392583636\n",
      "median page views group A = 8.0\n",
      "median page views group B = 8.0\n"
     ]
    }
   ],
   "source": [
    "print(\"mean page views group A =\", page_views_A.mean())\n",
    "print(\"mean page views group B =\", page_views_B.mean())\n",
    "print(\"median page views group A =\", page_views_B.median())\n",
    "print(\"median page views group B =\", page_views_B.median())"
   ]
  },
  {
   "cell_type": "markdown",
   "id": "0a14c06d-d83b-4a4e-8315-32945d17470a",
   "metadata": {},
   "source": [
    "* В группе А среднее значение в page views немного больше чем в группе В, a медианное значение одинаково. Это говорит, о том, что отличий в А и В дизайне по отношению к количеству просморенных страниц скорее всего нет или они являются не существенными.\n",
    "* Проверим распределение на нормальность с помощью теста Шапиро-Уилка"
   ]
  },
  {
   "cell_type": "code",
   "execution_count": 23,
   "id": "9776dc0a-aece-477e-b9ed-81ada1be3d39",
   "metadata": {},
   "outputs": [
    {
     "name": "stdout",
     "output_type": "stream",
     "text": [
      "Shapiro-Wilk for group A: statistic = 0.9418101396339102 p value = 2.137180781669329e-30\n",
      "Shapiro-Wilk for group B: statistic = 0.9481565533306111 p value = 9.739883236584908e-29\n"
     ]
    }
   ],
   "source": [
    "statistic, p_value = stats.shapiro(page_views_A)\n",
    "print(\"Shapiro-Wilk for group A: statistic =\", statistic, \"p value =\", p_value)\n",
    "statistic, p_value = stats.shapiro(page_views_B)\n",
    "print(\"Shapiro-Wilk for group B: statistic =\", statistic, \"p value =\", p_value)"
   ]
  },
  {
   "cell_type": "markdown",
   "id": "63b12a23-ff98-4287-8d52-f9d50666ad8e",
   "metadata": {},
   "source": [
    "Значение обеих групп __p-value__ < alpha - распределения групп А и В не нормально."
   ]
  },
  {
   "cell_type": "markdown",
   "id": "485b8279-4034-45d3-a022-e9d9c039a18d",
   "metadata": {},
   "source": [
    "Используем не параметрический тест Манна-Уитни для того, чтобы обнаружить статистически занчимый эффект "
   ]
  },
  {
   "cell_type": "code",
   "execution_count": 26,
   "id": "9e51b8ec-299c-47b4-9029-9daa15d25ae6",
   "metadata": {},
   "outputs": [
    {
     "name": "stdout",
     "output_type": "stream",
     "text": [
      "Mann-Whitney U test: statistic = 3165458.0 p-value = 0.42467839841511335\n"
     ]
    }
   ],
   "source": [
    "statistic, p_value = mannwhitneyu(page_views_A, page_views_B)\n",
    "print(\"Mann-Whitney U test: statistic =\", statistic, \"p-value =\", p_value)"
   ]
  },
  {
   "cell_type": "markdown",
   "id": "31436ca5-af50-4116-84dc-da6e3f64344e",
   "metadata": {},
   "source": [
    "__p-value__ > 0.05 - Статистически значимого различия в группах не обнаруженно "
   ]
  },
  {
   "cell_type": "markdown",
   "id": "a063e1c0-c0d4-4baa-8179-e95370c195bf",
   "metadata": {},
   "source": [
    "__Conversion__ "
   ]
  },
  {
   "cell_type": "code",
   "execution_count": 29,
   "id": "66bed56b-7730-4377-8873-c8b4057bca45",
   "metadata": {},
   "outputs": [
    {
     "data": {
      "image/png": "[encoded data removed]",
      "text/plain": [
       "<Figure size 640x480 with 1 Axes>"
      ]
     },
     "metadata": {},
     "output_type": "display_data"
    }
   ],
   "source": [
    "# посчитаем количество \"Yes\" в конверсии\n",
    "counts_Yes = df.groupby('Group')['Conversion'].apply(lambda x: (x == 'Yes').sum()).reset_index(name = 'Yes')\n",
    "plt.bar(counts_Yes['Group'], counts_Yes['Yes'], color = ['red', 'green'])\n",
    "plt.title(\"the number of 'Yes' in the groups\");"
   ]
  },
  {
   "cell_type": "markdown",
   "id": "62819237-feb4-4831-a75b-28de632d3061",
   "metadata": {},
   "source": [
    "* Видим, что в группе В конверсия намного больше чем в группе А\n",
    "* Проведем тест хи квадрат для оценки двух категориальных переменных"
   ]
  },
  {
   "cell_type": "code",
   "execution_count": 31,
   "id": "615dd149-4908-4271-a3ca-74eeafb9c481",
   "metadata": {},
   "outputs": [
    {
     "name": "stdout",
     "output_type": "stream",
     "text": [
      "chi square test: statistic = 106.22812337440538 p value = 6.571736018334222e-25\n"
     ]
    }
   ],
   "source": [
    "# создаем таблицу сопряженности \n",
    "contingency_table = pd.crosstab(df['Group'], df['Conversion'])\n",
    "\n",
    "# Проводим тест хи-квадрат\n",
    "chi2, p, dof, expected = chi2_contingency(contingency_table)\n",
    "\n",
    "print(\"chi square test: statistic =\", chi2, \"p value =\", p)"
   ]
  },
  {
   "cell_type": "markdown",
   "id": "aa2a4c9a-a8aa-4d16-b588-427ea05a30e9",
   "metadata": {},
   "source": [
    "__p-value__ < 0.05. Мы получили очень малую вероятность, что такие различия полученны случайно, это позволяет с высокой степенью уверенности отклонить нулевую гипотезу о независимости переменных и считать что дизайн группы В эффективнее в плане конверсии "
   ]
  },
  {
   "cell_type": "code",
   "execution_count": 33,
   "id": "5e6170c5-ba9d-4b93-9c5d-c443add46bf7",
   "metadata": {},
   "outputs": [
    {
     "data": {
      "text/html": [
       "<div>\n",
       "<style scoped>\n",
       "    .dataframe tbody tr th:only-of-type {\n",
       "        vertical-align: middle;\n",
       "    }\n",
       "\n",
       "    .dataframe tbody tr th {\n",
       "        vertical-align: top;\n",
       "    }\n",
       "\n",
       "    .dataframe thead th {\n",
       "        text-align: right;\n",
       "    }\n",
       "</style>\n",
       "<table border=\"1\" class=\"dataframe\">\n",
       "  <thead>\n",
       "    <tr style=\"text-align: right;\">\n",
       "      <th></th>\n",
       "      <th>Group</th>\n",
       "      <th>count</th>\n",
       "    </tr>\n",
       "  </thead>\n",
       "  <tbody>\n",
       "    <tr>\n",
       "      <th>0</th>\n",
       "      <td>A</td>\n",
       "      <td>5.398968</td>\n",
       "    </tr>\n",
       "    <tr>\n",
       "      <th>1</th>\n",
       "      <td>B</td>\n",
       "      <td>14.066909</td>\n",
       "    </tr>\n",
       "  </tbody>\n",
       "</table>\n",
       "</div>"
      ],
      "text/plain": [
       "  Group      count\n",
       "0     A   5.398968\n",
       "1     B  14.066909"
      ]
     },
     "execution_count": 33,
     "metadata": {},
     "output_type": "execute_result"
    }
   ],
   "source": [
    "# рассчитаем коэффициент конверсии\n",
    "counts_conversion = df.groupby('Group')['Conversion'].count().reset_index(name = 'count')\n",
    "counts_conversion['count'] = counts_Yes['Yes']/counts_conversion['count']*100\n",
    "cr = counts_conversion\n",
    "cr"
   ]
  },
  {
   "cell_type": "code",
   "execution_count": 34,
   "id": "50e21cfb-1ad3-446e-afb1-8bbc872784ea",
   "metadata": {},
   "outputs": [
    {
     "data": {
      "text/html": [
       "<div>\n",
       "<style scoped>\n",
       "    .dataframe tbody tr th:only-of-type {\n",
       "        vertical-align: middle;\n",
       "    }\n",
       "\n",
       "    .dataframe tbody tr th {\n",
       "        vertical-align: top;\n",
       "    }\n",
       "\n",
       "    .dataframe thead th {\n",
       "        text-align: right;\n",
       "    }\n",
       "</style>\n",
       "<table border=\"1\" class=\"dataframe\">\n",
       "  <thead>\n",
       "    <tr style=\"text-align: right;\">\n",
       "      <th></th>\n",
       "      <th>Group</th>\n",
       "      <th>count</th>\n",
       "    </tr>\n",
       "  </thead>\n",
       "  <tbody>\n",
       "    <tr>\n",
       "      <th>0</th>\n",
       "      <td>A</td>\n",
       "      <td>2519</td>\n",
       "    </tr>\n",
       "    <tr>\n",
       "      <th>1</th>\n",
       "      <td>B</td>\n",
       "      <td>2481</td>\n",
       "    </tr>\n",
       "  </tbody>\n",
       "</table>\n",
       "</div>"
      ],
      "text/plain": [
       "  Group  count\n",
       "0     A   2519\n",
       "1     B   2481"
      ]
     },
     "execution_count": 34,
     "metadata": {},
     "output_type": "execute_result"
    }
   ],
   "source": [
    "counts_conversion = df.groupby('Group')['Conversion'].count().reset_index(name = 'count')\n",
    "counts_conversion"
   ]
  },
  {
   "cell_type": "code",
   "execution_count": 35,
   "id": "a3a62a08-f7b3-4754-9128-06e6ea99e41c",
   "metadata": {},
   "outputs": [
    {
     "data": {
      "text/html": [
       "<div>\n",
       "<style scoped>\n",
       "    .dataframe tbody tr th:only-of-type {\n",
       "        vertical-align: middle;\n",
       "    }\n",
       "\n",
       "    .dataframe tbody tr th {\n",
       "        vertical-align: top;\n",
       "    }\n",
       "\n",
       "    .dataframe thead th {\n",
       "        text-align: right;\n",
       "    }\n",
       "</style>\n",
       "<table border=\"1\" class=\"dataframe\">\n",
       "  <thead>\n",
       "    <tr style=\"text-align: right;\">\n",
       "      <th></th>\n",
       "      <th>Group</th>\n",
       "      <th>Yes</th>\n",
       "    </tr>\n",
       "  </thead>\n",
       "  <tbody>\n",
       "    <tr>\n",
       "      <th>0</th>\n",
       "      <td>A</td>\n",
       "      <td>136</td>\n",
       "    </tr>\n",
       "    <tr>\n",
       "      <th>1</th>\n",
       "      <td>B</td>\n",
       "      <td>349</td>\n",
       "    </tr>\n",
       "  </tbody>\n",
       "</table>\n",
       "</div>"
      ],
      "text/plain": [
       "  Group  Yes\n",
       "0     A  136\n",
       "1     B  349"
      ]
     },
     "execution_count": 35,
     "metadata": {},
     "output_type": "execute_result"
    }
   ],
   "source": [
    "counts_Yes"
   ]
  },
  {
   "cell_type": "markdown",
   "id": "9604f46e-0162-43a6-9301-c65ddc543f29",
   "metadata": {},
   "source": [
    "CR группы B в 2.6 раза больше группы А"
   ]
  },
  {
   "cell_type": "markdown",
   "id": "6994b72f-132c-49dc-a66d-2558e44d6cc8",
   "metadata": {},
   "source": [
    "Посмотрим как количество совершенных конверсий в группах А и В выглядит на графике более детально, с учетом стран и типом устройств."
   ]
  },
  {
   "cell_type": "code",
   "execution_count": 38,
   "id": "43e37d59-1c5b-4163-aabb-022f6257b893",
   "metadata": {},
   "outputs": [
    {
     "data": {
      "image/png": "[encoded data removed]",
      "text/plain": [
       "<Figure size 1107.38x500 with 2 Axes>"
      ]
     },
     "metadata": {},
     "output_type": "display_data"
    }
   ],
   "source": [
    "df['Conversion'] = df['Conversion'].replace(['Yes','No'],['1', '0']).astype(int)\n",
    "grouped_values = df.groupby(['Group', 'Device', 'Location'])['Conversion'].sum().reset_index(name='Count')\n",
    "figure = sns.catplot(data= grouped_values, x=\"Location\", y=\"Count\", hue=\"Device\", kind=\"bar\", col=\"Group\", palette=\"Set2\")"
   ]
  },
  {
   "cell_type": "markdown",
   "id": "d969a951-411f-41c6-9b4b-3378623fdd4f",
   "metadata": {},
   "source": [
    "Группа В польностю превосходит А по всем отношениям."
   ]
  },
  {
   "cell_type": "markdown",
   "id": "46e3658b-610a-48f1-9959-a3d42daf9032",
   "metadata": {},
   "source": [
    "__Вывод:__ Анализ времени, проведенного на сайте и количество просмотренных страниц не показало статистически значимого различия между черным фоном и белым фоном сайта. Анализ конверсии показал статистически значимое увеличение в группе B (черный фон сайта). Это ключевой положительный результат, который говорит об эффективности нового дизайна в достижении основной цели — увеличения конверсии. Детальный анализ конверсии с разбивкой по странам и устройствам показал, что новый дизайн положительно повлиял на конверсию во всех странах и на всех типах устройств.\n",
    "Такой результат может быть связано с тем, что новый дизайн, возможно, более эффективно направляет пользователей к целевому действию, даже если они проводят на сайте меньше времени и просматривают меньше страниц."
   ]
  },
  {
   "cell_type": "code",
   "execution_count": null,
   "id": "d0b3aef4-588f-4c78-8321-b342501bdb3c",
   "metadata": {},
   "outputs": [],
   "source": []
  }
 ],
 "metadata": {
  "kernelspec": {
   "display_name": "Python [conda env:base] *",
   "language": "python",
   "name": "conda-base-py"
  },
  "language_info": {
   "codemirror_mode": {
    "name": "ipython",
    "version": 3
   },
   "file_extension": ".py",
   "mimetype": "text/x-python",
   "name": "python",
   "nbconvert_exporter": "python",
   "pygments_lexer": "ipython3",
   "version": "3.12.7"
  }
 },
 "nbformat": 4,
 "nbformat_minor": 5
}
